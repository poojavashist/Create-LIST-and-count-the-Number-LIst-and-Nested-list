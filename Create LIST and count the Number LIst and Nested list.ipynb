{
 "cells": [
  {
   "cell_type": "code",
   "execution_count": 27,
   "metadata": {},
   "outputs": [
    {
     "name": "stdout",
     "output_type": "stream",
     "text": [
      "enter your name: pooja,seema\n",
      "['pooja', 'seema']\n",
      "11\n"
     ]
    }
   ],
   "source": [
    "names_string = (input(\"enter your name: \"))\n",
    "\n",
    "name = names_string.split(\",\")\n",
    "item = len(names_string)\n",
    "print(name)\n",
    "print(item)\n",
    " \n"
   ]
  },
  {
   "cell_type": "markdown",
   "metadata": {},
   "source": [
    "# TO CHECK WHAT THIS LIST SHOUD PRINT IF WE CHANGE THE NUMBERS UNDER THE NESTED LISTS."
   ]
  },
  {
   "cell_type": "code",
   "execution_count": 52,
   "metadata": {},
   "outputs": [
    {
     "name": "stdout",
     "output_type": "stream",
     "text": [
      "kele\n"
     ]
    }
   ],
   "source": [
    "fruits = [\"strwbery\", \"nectrine\", \"apples\", \"grapes\", \"peaches\" , \"cherries\" , \"pears\"]\n",
    "vegetable = [\"spinich\",\"kele\", \"tomatos\" , \"celry\", \"potatos\" ]\n",
    "dirty_dozen = [fruits, vegetable]\n",
    "print(dirty_dozen[1][1])"
   ]
  }
 ],
 "metadata": {
  "kernelspec": {
   "display_name": "Python 3",
   "language": "python",
   "name": "python3"
  },
  "language_info": {
   "codemirror_mode": {
    "name": "ipython",
    "version": 3
   },
   "file_extension": ".py",
   "mimetype": "text/x-python",
   "name": "python",
   "nbconvert_exporter": "python",
   "pygments_lexer": "ipython3",
   "version": "3.8.3"
  }
 },
 "nbformat": 4,
 "nbformat_minor": 4
}
